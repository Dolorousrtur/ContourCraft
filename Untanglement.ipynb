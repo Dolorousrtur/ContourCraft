{
 "cells": [
  {
   "cell_type": "markdown",
   "id": "e84ca262",
   "metadata": {},
   "source": [
    "# Untanglement"
   ]
  },
  {
   "cell_type": "markdown",
   "id": "76073ac5",
   "metadata": {},
   "source": [
    "In this notebook, we show how you can use ContourCraft to untangle several garments. That is, gives a set of potentially intersecting garments in canonical poses, untangle their geomenties to remove all visible penetrations.\n",
    "\n",
    "![untanglement](static/untangle.png)"
   ]
  },
  {
   "cell_type": "markdown",
   "id": "c0a83b8c",
   "metadata": {},
   "source": [
    "First, for each garment, you'll need to creata a .pkl garment dict file. Please refer to the section *\"Add your own garment from an `.obj` file\"* in [GarmentImport.ipynb](GarmentImport.ipynb) for the instructions on how to do that.\n",
    "\n",
    "Then, create an `Untangler` object. It will be performing the simulations to untangle the garments.\n",
    "\n",
    "Set the path to the ContourCraft model checkpoint and the directory containing the garment dict files. Here we use example values that should work if you have followed the [data preparation instructions](INSTALL.md#download-data) correctly.\n",
    "\n",
    "The simulation untangles garments one by one from the innermost to the outermost with the loop which performs the following two-stage algorithm for several epochs:\n",
    "1. Simulate all inner garments as rigid bodies and the outermost garment as cloth to push it outside using the penetration loss.\n",
    "2. Simulate all the garments together as cloth to relax the inner garments and resolve remaining penetration with the Intersection Contour loss.\n",
    "\n",
    "You may need to adjust the parameters `n_epochs` and `n_steps_per_stage` to achieve satisfying results for your case."
   ]
  },
  {
   "cell_type": "code",
   "execution_count": null,
   "id": "79de3df1",
   "metadata": {},
   "outputs": [],
   "source": [
    "from utils.untanglement import Untangler\n",
    "from pathlib import Path\n",
    "from utils.defaults import DEFAULTS\n",
    "from utils.mesh_creation import GarmentCreator"
   ]
  },
  {
   "cell_type": "code",
   "execution_count": null,
   "id": "7e796513",
   "metadata": {},
   "outputs": [],
   "source": [
    "models_dir = Path(DEFAULTS.data_root) / 'trained_models'\n",
    "checkpoint_path = models_dir / 'contourcraft.pth'\n",
    "body_models_root = Path(DEFAULTS.aux_data) / 'body_models'\n",
    "\n",
    "# Model type, either 'smpl' or 'smplx'\n",
    "model_type = 'smplx'\n",
    "# gender, either 'male`, `female` or `neutral`\n",
    "gender = 'male'\n",
    "\n",
    "garment_dicts_dir = Path(DEFAULTS.aux_data) / 'garment_dicts' / model_type\n",
    "\n",
    "n_epochs = 2 # Number of simulation epochs for each outer garment \n",
    "n_steps_per_stage = 30 # Number of simulation steps per stage\n",
    "\n",
    "garment_creator = GarmentCreator(garment_dicts_dir, body_models_root, model_type, gender)\n",
    "untangler = Untangler(garment_creator, checkpoint_path, n_steps_per_stage=n_steps_per_stage, n_epochs=n_epochs, gender=gender, use_uv=False, garment_dicts_dir=garment_dicts_dir)"
   ]
  },
  {
   "cell_type": "markdown",
   "id": "49c13e2a",
   "metadata": {},
   "source": [
    "Now you can run the untanglement simulation. Add the names of your garments to the `garment_list_in_order` in the order from the innermost to the outermost. The garment names correspond to the garment dict file paths relative to the `garment_dicts_dir` you defined above.\n",
    "\n",
    "After the untanglement is finished the updated garment dicts will be stored in the outfit folder you define in the `outfit_name`.\n",
    "\n",
    "Then, you'll be able to simulate the untangled garments in new poses by setting the `garment_name` parameter (e.g. in [Inference.ipynb](Inference.ipynb)) either to the name of the outfit\n",
    "```python\n",
    "garment_name = \"{outfit_name}\"\n",
    "```\n",
    "or to a comma separated list of the garment names preceded by the outfit name:\n",
    "```python\n",
    "garment_name = \"{outfit_name}/{garment_name1},{outfit_name}/{garment_name2},...\"\n",
    "```"
   ]
  },
  {
   "cell_type": "code",
   "execution_count": null,
   "id": "ebd40d8e",
   "metadata": {},
   "outputs": [],
   "source": [
    "garment_list_in_order = []\n",
    "\n",
    "garment_list_in_order.append('aaron_022::top_blouse')\n",
    "garment_list_in_order.append('ben_004::top_tshirt')\n",
    "garment_list_in_order.append('aaron_022::top_coat')\n",
    "\n",
    "outfit_name = 'combined_test'\n",
    "\n",
    "untanglement, trajectory_dict = untangler.untangle_all(garment_list_in_order, outfit_name)"
   ]
  },
  {
   "cell_type": "markdown",
   "id": "fdb8bcc0",
   "metadata": {},
   "source": [
    "For debugging purposes, you may see the unganglement simulation in AITViewer.\n",
    "\n",
    "To do that,\n",
    "1. Save the untanglement trajectory to a .pkl file (see below)\n",
    "2. Start AITViewer with `python utils/show.py rollout_path=PATH_TO_SEQUENCE`"
   ]
  },
  {
   "cell_type": "code",
   "execution_count": null,
   "id": "a44345aa",
   "metadata": {},
   "outputs": [],
   "source": [
    "from utils.io import pickle_dump\n",
    "\n",
    "\n",
    "out_path = Path(DEFAULTS.data_root) / 'temp' / 'untanglement_debug.pkl'\n",
    "out_path.parent.mkdir(parents=True, exist_ok=True)\n",
    "pickle_dump(trajectory_dict, out_path)"
   ]
  }
 ],
 "metadata": {
  "kernelspec": {
   "display_name": "ccraft",
   "language": "python",
   "name": "python3"
  },
  "language_info": {
   "codemirror_mode": {
    "name": "ipython",
    "version": 3
   },
   "file_extension": ".py",
   "mimetype": "text/x-python",
   "name": "python",
   "nbconvert_exporter": "python",
   "pygments_lexer": "ipython3",
   "version": "3.10.16"
  }
 },
 "nbformat": 4,
 "nbformat_minor": 5
}
