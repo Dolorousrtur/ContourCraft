{
 "cells": [
  {
   "cell_type": "markdown",
   "id": "d96a4911-2cfc-4234-9098-453018ec4436",
   "metadata": {},
   "source": [
    "# Inference from any pose"
   ]
  },
  {
   "cell_type": "markdown",
   "id": "c6bd975a-3960-43ce-8ede-2ac20fb3af2c",
   "metadata": {},
   "source": [
    "With this notebook you can run inference of ContourCraft using an arbitrary non-SMPL(-x) mesh sequence.\n",
    "\n",
    "To run in you will need to have a mesh sequence as a `.pkl` file containing a dictionary of the following items (see `DEFAULTS.data_root/fromanypose/mesh_sequence.pkl` as an example):\n",
    "* `verts`: np.array [N, V, 3]\n",
    "* `faces`: np.array [F, 3]\n",
    "\n",
    "You also need to have a garment mesh (as `.obj` file) which is aligned with the first frame of your body sequence.\n",
    "\n",
    "In this notebook we first show how to convert a garment mesh in `.obj` format into a garment dict used in HOOD. \n",
    "\n",
    "Then, we show how to use the configuration file `aux/from_any_pose.yaml` to run inference with over albitrary SMPL sequence and arbitrary mesh sequence."
   ]
  },
  {
   "cell_type": "markdown",
   "id": "8a91eba6-68a4-401b-bbfe-33292ca5ba4b",
   "metadata": {},
   "source": [
    "## Create template file from the .obj file:"
   ]
  },
  {
   "cell_type": "markdown",
   "id": "e4b41a41-90b3-48b5-8447-858797c9dd53",
   "metadata": {},
   "source": [
    "Use `utils.mesh_creation::obj2template()` function to convert an `.obj` file into a template dictionary and then save it with `pickle_dump`\n",
    "\n",
    "`DEFAULTS.data_root/fromanypose/skirt.obj` is provided as an example"
   ]
  },
  {
   "cell_type": "code",
   "execution_count": 8,
   "id": "af6c3125",
   "metadata": {},
   "outputs": [
    {
     "name": "stdout",
     "output_type": "stream",
     "text": [
      "The autoreload extension is already loaded. To reload it, use:\n",
      "  %reload_ext autoreload\n"
     ]
    }
   ],
   "source": [
    "%load_ext autoreload\n",
    "%autoreload 2"
   ]
  },
  {
   "cell_type": "code",
   "execution_count": 1,
   "id": "0568c817-32a6-4dfd-9ece-b5005dcc800b",
   "metadata": {},
   "outputs": [
    {
     "name": "stderr",
     "output_type": "stream",
     "text": [
      "/data/agrigorev/miniforge3/envs/ccraft/lib/python3.10/site-packages/trimesh/geometry.py:7: UserWarning: A NumPy version >=1.23.5 and <2.5.0 is required for this version of SciPy (detected version 1.23.1)\n",
      "  import scipy.sparse\n"
     ]
    }
   ],
   "source": [
    "from utils.mesh_creation import obj2template\n",
    "from utils.io import pickle_dump\n",
    "from utils.defaults import DEFAULTS\n",
    "from pathlib import Path"
   ]
  },
  {
   "cell_type": "code",
   "execution_count": 10,
   "id": "a972f1e0-af66-4b8a-9b4e-f0ab41807a7d",
   "metadata": {},
   "outputs": [
    {
     "name": "stdout",
     "output_type": "stream",
     "text": [
      "Adding coarse edges... (may take a while)\n",
      "Done.\n"
     ]
    }
   ],
   "source": [
    "obj_path = Path(DEFAULTS.data_root) / 'fromanypose' / 'skirt.obj'\n",
    "out_template_path = Path(DEFAULTS.data_root) / 'fromanypose' / 'skirt.pkl'\n",
    "\n",
    "template_dict = obj2template(obj_path, verbose=True)\n",
    "pickle_dump(template_dict, out_template_path)"
   ]
  },
  {
   "cell_type": "code",
   "execution_count": 11,
   "id": "8536a020",
   "metadata": {},
   "outputs": [],
   "source": [
    "from utils.mesh_creation import add_pinned_verts\n",
    "\n",
    "\n",
    "pinned_indices = \\\n",
    "[2196, 2197, 2198, 2199, 2200, 2201, 2202, 2203, 2204, 2205, 2206, 2207, 2208, 2209, 2210, 2211, 2212, 2213, 2214, 2215,\n",
    " 2216, 2217, 2218, 2219, 2220, 2221, 2222, 2223, 2224, 2225, 2226, 2227, 2228, 2229, 2230, 2231, 2232, 2233, 2234, 2235,\n",
    " 2236, 2237, 2238, 2239, 2240, 2241, 2242, 2243, 2244, 2327, 2328, 2351, 2492, 2497, 2669, 2670, 2671, 2674, 2837, 3139,\n",
    " 3200, 3204, 3359, 3362, 3495, 3512, 3634, 3638, 3805, 3965, 3967, 4133, 4137, 4140, 4335, 4340, 4506, 4509, 4669, 4674,\n",
    " 4749, 4812, 4849, 4853, 5138, 5309, 5342, 5469, 5474, 5503, 5646, 5650, 5654, 5855, 5857, 6028, 6091, 6204, 6209, 6280,\n",
    " 6374, 6377, 6378, 6473, 6649, 6654, 6814, 6817, 6986, 6989, 6990, 6992, 7172, 7178, 7336, 7500, 7505, 7661, 7665, 7666]\n",
    "\n",
    "add_pinned_verts(out_template_path, pinned_indices)"
   ]
  },
  {
   "cell_type": "markdown",
   "id": "8cc63433-3d5a-4583-9636-1562ea1f62f2",
   "metadata": {},
   "source": [
    "## Inference with a mesh sequence"
   ]
  },
  {
   "cell_type": "markdown",
   "id": "ffabf78b-9afb-409a-8cda-3433e9b93308",
   "metadata": {},
   "source": [
    "Here we use a sequence of arbitrary meshes.  The garment template needs to be aligned with the first frame of the sequence.\n",
    "\n",
    "The mesh sequence has to be a `.pkl` file containing a dictionary of the following items (see `DEFAULTS.data_root/fromanypose/mesh_sequence.pkl` as an example):\n",
    "* `verts`: np.array [N, V, 3]\n",
    "* `faces`: np.array [F, 3]"
   ]
  },
  {
   "cell_type": "markdown",
   "id": "facedbd7-2d8b-4131-bcc9-a9c688c5b5ed",
   "metadata": {},
   "source": [
    "### Load runner and dataloader from `from_any_pose` config"
   ]
  },
  {
   "cell_type": "code",
   "execution_count": 3,
   "id": "a143d7ec-7e0e-4765-86b4-463eaed6baeb",
   "metadata": {},
   "outputs": [],
   "source": [
    "from utils.arguments import load_params, create_modules\n",
    "from utils.arguments import load_params\n",
    "from utils.common import move2device\n",
    "from utils.io import pickle_dump\n",
    "from utils.defaults import DEFAULTS\n",
    "from pathlib import Path\n",
    "import torch\n",
    "from utils.arguments import create_runner"
   ]
  },
  {
   "cell_type": "code",
   "execution_count": 4,
   "id": "f07db298-afb1-4b72-af26-7842a6947626",
   "metadata": {},
   "outputs": [
    {
     "name": "stdout",
     "output_type": "stream",
     "text": [
      "Warp 1.5.1 initialized:\n",
      "   CUDA Toolkit 12.6, Driver 12.2\n",
      "   Devices:\n",
      "     \"cpu\"      : \"x86_64\"\n",
      "     \"cuda:0\"   : \"Quadro RTX 6000\" (24 GiB, sm_75, mempool enabled)\n",
      "     \"cuda:1\"   : \"Quadro RTX 6000\" (24 GiB, sm_75, mempool enabled)\n",
      "     \"cuda:2\"   : \"Quadro RTX 6000\" (24 GiB, sm_75, mempool enabled)\n",
      "     \"cuda:3\"   : \"Quadro RTX 6000\" (24 GiB, sm_75, mempool enabled)\n",
      "     \"cuda:4\"   : \"Quadro RTX 6000\" (24 GiB, sm_75, mempool enabled)\n",
      "     \"cuda:5\"   : \"Quadro RTX 6000\" (24 GiB, sm_75, mempool enabled)\n",
      "     \"cuda:6\"   : \"Quadro RTX 6000\" (24 GiB, sm_75, mempool enabled)\n",
      "     \"cuda:7\"   : \"Quadro RTX 6000\" (24 GiB, sm_75, mempool enabled)\n",
      "   CUDA peer access:\n",
      "     Supported fully (all-directional)\n",
      "   Kernel cache:\n",
      "     /local/home/agrigorev/.cache/warp/1.5.1\n"
     ]
    },
    {
     "name": "stderr",
     "output_type": "stream",
     "text": [
      "/tmp/ipykernel_2512564/3623870893.py:12: FutureWarning: You are using `torch.load` with `weights_only=False` (the current default value), which uses the default pickle module implicitly. It is possible to construct malicious pickle data which will execute arbitrary code during unpickling (See https://github.com/pytorch/pytorch/blob/main/SECURITY.md#untrusted-models for more details). In a future release, the default value for `weights_only` will be flipped to `True`. This limits the functions that could be executed during unpickling. Arbitrary objects will no longer be allowed to be loaded via this mode unless they are explicitly allowlisted by the user via `torch.serialization.add_safe_globals`. We recommend you start setting `weights_only=True` for any use case where you don't have full control of the loaded file. Please open an issue on GitHub for any issues related to this experimental feature.\n",
      "  state_dict =  torch.load(checkpoint_path)\n"
     ]
    },
    {
     "data": {
      "text/plain": [
       "<All keys matched successfully>"
      ]
     },
     "execution_count": 4,
     "metadata": {},
     "output_type": "execute_result"
    }
   ],
   "source": [
    "# use HOOD\n",
    "# modules, config = load_params('aux/from_any_pose_hood')\n",
    "# checkpoint_path = Path(DEFAULTS.data_root) / 'trained_models' / 'hood_final.pth'\n",
    "\n",
    "# use ContourCraft\n",
    "modules, config = load_params('aux/from_any_pose')\n",
    "checkpoint_path = Path(DEFAULTS.data_root) / 'trained_models' / 'contourcraft.pth'\n",
    "\n",
    "\n",
    "runner_module, runner, aux_modules = create_runner(modules, config)\n",
    "\n",
    "state_dict =  torch.load(checkpoint_path)\n",
    "runner.load_state_dict(state_dict['training_module'])"
   ]
  },
  {
   "cell_type": "markdown",
   "id": "56133fff",
   "metadata": {},
   "source": [
    "### Create a dataloader\n",
    "\n",
    "Same as in the previous part, set several variables to specify which garment and which pose sequence you want to use:\n",
    "\n",
    "\n",
    "- `pose_sequence_path` path to the smpl pose sequence relative to `DEFAULTS.data_root`. For this example we use `fromanypose/mesh_sequence.pkl`\n",
    "- `garment_template_path` path to the .pkl file with the garment template  For this example we use `fromanypose/skirt.pkl`"
   ]
  },
  {
   "cell_type": "code",
   "execution_count": 5,
   "id": "5ae7ee1d",
   "metadata": {},
   "outputs": [],
   "source": [
    "from utils.datasets import make_fromanypose_dataloader\n",
    "\n",
    "pose_sequence_path = Path('fromanypose') / 'mesh_sequence.pkl'\n",
    "garment_template_path = Path('fromanypose') / 'skirt.pkl'\n",
    "\n",
    "\n",
    "dataloader = make_fromanypose_dataloader(pose_sequence_type='mesh', \n",
    "                       pose_sequence_path=pose_sequence_path, \n",
    "                       garment_template_path=garment_template_path)"
   ]
  },
  {
   "cell_type": "markdown",
   "id": "b9a43ad4-5bd9-4ae9-939b-f804dea17dd0",
   "metadata": {},
   "source": [
    "### load sample, infer and save trajectories\n",
    "\n",
    "To visualise the saved trajectories, see `Inference.ipynb::write_video`"
   ]
  },
  {
   "cell_type": "code",
   "execution_count": 6,
   "id": "9d81b569-69d4-4989-9035-6127d39e26b2",
   "metadata": {},
   "outputs": [
    {
     "name": "stderr",
     "output_type": "stream",
     "text": [
      "/local/home/agrigorev/Workdir/contourcraft_private/datasets/from_any_pose.py:252: UserWarning: Using torch.cross without specifying the dim arg is deprecated.\n",
      "Please either pass the dim explicitly or simply use torch.linalg.cross.\n",
      "The default value of dim will change to agree with that of linalg.cross in a future release. (Triggered internally at /opt/conda/conda-bld/pytorch_1729647382455/work/aten/src/ATen/native/Cross.cpp:62.)\n",
      "  normals = torch.cross(v0v1, v0v2)  # (F, 3)\n",
      "  0%|          | 0/384 [00:00<?, ?it/s]"
     ]
    },
    {
     "name": "stdout",
     "output_type": "stream",
     "text": [
      "Module utils.warp_u.proximity b91666f load on device 'cuda:0' took 0.75 ms  (cached)\n"
     ]
    },
    {
     "name": "stderr",
     "output_type": "stream",
     "text": [
      "100%|██████████| 384/384 [01:45<00:00,  3.64it/s]"
     ]
    },
    {
     "name": "stdout",
     "output_type": "stream",
     "text": [
      "Rollout saved into /data/agrigorev/02_Projects/ccraft_data/temp/output_m.pkl\n"
     ]
    },
    {
     "name": "stderr",
     "output_type": "stream",
     "text": [
      "\n"
     ]
    }
   ],
   "source": [
    "sample = next(iter(dataloader))\n",
    "\n",
    "sample = move2device(sample, 'cuda:0')\n",
    "runner.to('cuda:0')\n",
    "trajectories_dict = runner.valid_rollout(sample)\n",
    "\n",
    "\n",
    "# Save the sequence to disk\n",
    "out_path = Path(DEFAULTS.data_root) / 'temp' / 'output_m.pkl'\n",
    "print(f\"Rollout saved into {out_path}\")\n",
    "pickle_dump(dict(trajectories_dict), out_path)"
   ]
  }
 ],
 "metadata": {
  "kernelspec": {
   "display_name": "ccraft",
   "language": "python",
   "name": "python3"
  },
  "language_info": {
   "codemirror_mode": {
    "name": "ipython",
    "version": 3
   },
   "file_extension": ".py",
   "mimetype": "text/x-python",
   "name": "python",
   "nbconvert_exporter": "python",
   "pygments_lexer": "ipython3",
   "version": "3.10.16"
  }
 },
 "nbformat": 4,
 "nbformat_minor": 5
}
